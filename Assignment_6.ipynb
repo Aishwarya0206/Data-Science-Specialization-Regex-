{
  "nbformat": 4,
  "nbformat_minor": 0,
  "metadata": {
    "colab": {
      "name": "Assignment_6.ipynb",
      "provenance": []
    },
    "kernelspec": {
      "name": "python3",
      "display_name": "Python 3"
    },
    "language_info": {
      "name": "python"
    }
  },
  "cells": [
    {
      "cell_type": "markdown",
      "source": [
        "Q1 : WRITE a program that check whether the string data is having the length greater than or equal to 5 and less than or equal to 10\n",
        "\t- Try to print a suitable message"
      ],
      "metadata": {
        "id": "YELIjZuaAJlb"
      }
    },
    {
      "cell_type": "code",
      "execution_count": 4,
      "metadata": {
        "colab": {
          "base_uri": "https://localhost:8080/"
        },
        "id": "vGQ2R5fyABPZ",
        "outputId": "52bd8bf2-a37b-4fd1-c7ea-a87034322747"
      },
      "outputs": [
        {
          "output_type": "stream",
          "name": "stdout",
          "text": [
            "Enter a string: Aishwarya\n",
            "Length of Aishwarya is 9\n"
          ]
        }
      ],
      "source": [
        "value = input(\"Enter a string: \")\n",
        "if(len(value)>=5 and len(value)<=10):\n",
        "  print(\"Length of {} is {}\".format(value, len(value)))\n",
        "else:\n",
        "  print(\"Length of {} which is {} neither greater than or equal to 5 nor less than equal to 10\".format(value, len(value)))"
      ]
    }
  ]
}