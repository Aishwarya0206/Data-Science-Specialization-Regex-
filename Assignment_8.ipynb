{
  "nbformat": 4,
  "nbformat_minor": 0,
  "metadata": {
    "colab": {
      "name": "Assignment_8.ipynb",
      "provenance": []
    },
    "kernelspec": {
      "name": "python3",
      "display_name": "Python 3"
    },
    "language_info": {
      "name": "python"
    }
  },
  "cells": [
    {
      "cell_type": "markdown",
      "source": [
        "\n",
        "\n",
        "<b>\n",
        "<pre>\n",
        "Q1) *\n",
        "    **\n",
        "    ***\n",
        "    ****\n",
        "    *****\n",
        "    using while loop\n",
        "</pre>\n",
        "</b>\n",
        "\n"
      ],
      "metadata": {
        "id": "496UckcncEHs"
      }
    },
    {
      "cell_type": "code",
      "execution_count": 5,
      "metadata": {
        "colab": {
          "base_uri": "https://localhost:8080/"
        },
        "id": "BLYAWn-MTYRD",
        "outputId": "a5884d5f-59fe-411e-9188-a9014618e09f"
      },
      "outputs": [
        {
          "output_type": "stream",
          "name": "stdout",
          "text": [
            "*\n",
            "**\n",
            "***\n",
            "****\n",
            "*****\n"
          ]
        }
      ],
      "source": [
        "i = 1\n",
        "while(i<6):\n",
        "  j = 0\n",
        "  while(j<i):\n",
        "    print(\"*\",end='')\n",
        "    j+=1\n",
        "  print()\n",
        "  i+=1"
      ]
    },
    {
      "cell_type": "markdown",
      "source": [
        "\n",
        "\n",
        "<b>\n",
        "<pre>\n",
        "Q2) *****\n",
        "    ****\n",
        "    ***\n",
        "    **\n",
        "    *\n",
        "    using while loop\n",
        "</pre>\n",
        "</b>\n",
        "\n"
      ],
      "metadata": {
        "id": "Nb6Gb67zcCNC"
      }
    },
    {
      "cell_type": "code",
      "source": [
        "i = 5\n",
        "while(i>0):\n",
        "  j = 0\n",
        "  while(j<i):\n",
        "    print(\"*\",end='')\n",
        "    j+=1\n",
        "  print()\n",
        "  i-=1"
      ],
      "metadata": {
        "colab": {
          "base_uri": "https://localhost:8080/"
        },
        "id": "kVBAfeVld4tZ",
        "outputId": "69ffdb69-9f4f-4871-c94e-86daea6ceeb4"
      },
      "execution_count": 6,
      "outputs": [
        {
          "output_type": "stream",
          "name": "stdout",
          "text": [
            "*****\n",
            "****\n",
            "***\n",
            "**\n",
            "*\n"
          ]
        }
      ]
    },
    {
      "cell_type": "markdown",
      "source": [
        "\n",
        "\n",
        "<b>\n",
        "<pre>\n",
        "Q3) *****\n",
        "    ****\n",
        "    ***\n",
        "    **\n",
        "    *\n",
        "    using for loop\n",
        "</pre>\n",
        "</b>\n",
        "\n"
      ],
      "metadata": {
        "id": "lqQYAZj8eQ5Y"
      }
    },
    {
      "cell_type": "code",
      "source": [
        "for i in range(5,0,-1):\n",
        "  for j in range(i):\n",
        "    print(\"*\",end='')\n",
        "  print(\"\")"
      ],
      "metadata": {
        "colab": {
          "base_uri": "https://localhost:8080/"
        },
        "id": "VRIWnoqPeUUX",
        "outputId": "de640bcf-8269-4bd7-96bc-23de917edaab"
      },
      "execution_count": 7,
      "outputs": [
        {
          "output_type": "stream",
          "name": "stdout",
          "text": [
            "*****\n",
            "****\n",
            "***\n",
            "**\n",
            "*\n"
          ]
        }
      ]
    }
  ]
}