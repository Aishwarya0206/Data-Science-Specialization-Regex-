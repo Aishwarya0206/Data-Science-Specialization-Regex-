{
  "nbformat": 4,
  "nbformat_minor": 0,
  "metadata": {
    "colab": {
      "name": "Assignment_1.ipynb",
      "provenance": []
    },
    "kernelspec": {
      "name": "python3",
      "display_name": "Python 3"
    },
    "language_info": {
      "name": "python"
    }
  },
  "cells": [
    {
      "cell_type": "code",
      "metadata": {
        "colab": {
          "base_uri": "https://localhost:8080/"
        },
        "id": "AyudWLxK8bgC",
        "outputId": "cdf803d0-792c-41c1-a108-af1b9cdf252e"
      },
      "source": [
        "a = 45\n",
        "b = 35\n",
        "c = 50\n",
        "d = 90\n",
        "\n",
        "Addition = a+b+c+d\n",
        "print(a)\n",
        "print(b)\n",
        "print(c)\n",
        "print(d)\n",
        "print(\"Addition: \",Addition)\n",
        "print(\"*******************************************\")\n",
        "\n",
        "Subtraction = a-b-c-d\n",
        "print(a)\n",
        "print(b)\n",
        "print(c)\n",
        "print(d)\n",
        "print(\"Subtraction: \",Subtraction)\n",
        "print(\"*******************************************\")\n",
        "\n",
        "Multiplication = a*b*c*d\n",
        "print(a)\n",
        "print(b)\n",
        "print(c)\n",
        "print(d)\n",
        "print(\"Multiplication: \",Multiplication)\n",
        "print(\"*******************************************\")\n",
        "\n",
        "Division = (a/b)/(c/d)\n",
        "print(a)\n",
        "print(b)\n",
        "print(c)\n",
        "print(d)\n",
        "print(\"Division: \",Division)\n",
        "print(\"*******************************************\")"
      ],
      "execution_count": null,
      "outputs": [
        {
          "output_type": "stream",
          "name": "stdout",
          "text": [
            "45\n",
            "35\n",
            "50\n",
            "90\n",
            "Addition:  220\n",
            "*******************************************\n",
            "45\n",
            "35\n",
            "50\n",
            "90\n",
            "Subtraction:  -130\n",
            "*******************************************\n",
            "45\n",
            "35\n",
            "50\n",
            "90\n",
            "Multiplication:  7087500\n",
            "*******************************************\n",
            "45\n",
            "35\n",
            "50\n",
            "90\n",
            "Division:  2.3142857142857145\n",
            "*******************************************\n"
          ]
        }
      ]
    }
  ]
}