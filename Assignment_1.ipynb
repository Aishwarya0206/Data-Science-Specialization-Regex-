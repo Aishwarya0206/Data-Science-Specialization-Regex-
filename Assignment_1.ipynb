{
  "nbformat": 4,
  "nbformat_minor": 0,
  "metadata": {
    "colab": {
      "name": "Assignment_1.ipynb",
      "provenance": [],
      "collapsed_sections": [
        "5TPCseqAZxG2",
        "OcSqVGIhZ8Bm"
      ]
    },
    "kernelspec": {
      "name": "python3",
      "display_name": "Python 3"
    },
    "language_info": {
      "name": "python"
    }
  },
  "cells": [
    {
      "cell_type": "markdown",
      "source": [
        "# 1. Numpy stands for?"
      ],
      "metadata": {
        "id": "5TPCseqAZxG2"
      }
    },
    {
      "cell_type": "markdown",
      "source": [
        "Answer: Numerical Python"
      ],
      "metadata": {
        "id": "ovwXZtz0Z1nZ"
      }
    },
    {
      "cell_type": "markdown",
      "source": [
        "# 2. The most important object defined in Numpy is an N-dimensional array type called?"
      ],
      "metadata": {
        "id": "OcSqVGIhZ8Bm"
      }
    },
    {
      "cell_type": "markdown",
      "source": [
        "Answer: ndarray"
      ],
      "metadata": {
        "id": "_3Yz_ZtodjSu"
      }
    },
    {
      "cell_type": "markdown",
      "source": [
        "# 3. What will be output for the following code?"
      ],
      "metadata": {
        "id": "97CxfxdkdtAM"
      }
    },
    {
      "cell_type": "code",
      "execution_count": 1,
      "metadata": {
        "colab": {
          "base_uri": "https://localhost:8080/"
        },
        "id": "l5IDuXYfZsJ-",
        "outputId": "76c6ab77-122c-48c7-e6b0-2638fb930015"
      },
      "outputs": [
        {
          "output_type": "stream",
          "name": "stdout",
          "text": [
            "[1.+0.j 2.+0.j 3.+0.j]\n"
          ]
        }
      ],
      "source": [
        "import numpy as np\n",
        "a = np.array([1, 2, 3], dtype = complex)\n",
        "print(a)"
      ]
    },
    {
      "cell_type": "code",
      "source": [
        "a = np.array([1,2,3])\n",
        "print(a)"
      ],
      "metadata": {
        "colab": {
          "base_uri": "https://localhost:8080/"
        },
        "id": "A3S_WWJsd3Od",
        "outputId": "3588bb6d-f122-494d-ce44-d4db54471459"
      },
      "execution_count": 2,
      "outputs": [
        {
          "output_type": "stream",
          "name": "stdout",
          "text": [
            "[1 2 3]\n"
          ]
        }
      ]
    },
    {
      "cell_type": "code",
      "source": [
        "a = np.array([1, 2, 3], dtype =\"float\")\n",
        "print(a)"
      ],
      "metadata": {
        "colab": {
          "base_uri": "https://localhost:8080/"
        },
        "id": "AaXvq81-eE3S",
        "outputId": "f4f04472-d8a1-4ab7-f924-2b876c0de438"
      },
      "execution_count": 3,
      "outputs": [
        {
          "output_type": "stream",
          "name": "stdout",
          "text": [
            "[1. 2. 3.]\n"
          ]
        }
      ]
    },
    {
      "cell_type": "code",
      "source": [
        "a = np.dtype('i4')\n",
        "print(a)"
      ],
      "metadata": {
        "colab": {
          "base_uri": "https://localhost:8080/"
        },
        "id": "V6t5oNpseKOE",
        "outputId": "0d4ef3b5-d3e2-432c-c293-a131244eb49a"
      },
      "execution_count": 4,
      "outputs": [
        {
          "output_type": "stream",
          "name": "stdout",
          "text": [
            "int32\n"
          ]
        }
      ]
    },
    {
      "cell_type": "code",
      "source": [
        "a = np.array([1, 2, 3,4,5], ndmin=2)\n",
        "print(a)"
      ],
      "metadata": {
        "colab": {
          "base_uri": "https://localhost:8080/"
        },
        "id": "Z-yCNb4tePfb",
        "outputId": "057beed0-37c6-4021-8535-bdf917f1ac92"
      },
      "execution_count": 5,
      "outputs": [
        {
          "output_type": "stream",
          "name": "stdout",
          "text": [
            "[[1 2 3 4 5]]\n"
          ]
        }
      ]
    },
    {
      "cell_type": "code",
      "source": [
        "dt = np.dtype([('age', np.int8)])\n",
        "a = np.array([(10,),(20,),(30,)], dtype = dt)\n",
        "print(a['age'])"
      ],
      "metadata": {
        "colab": {
          "base_uri": "https://localhost:8080/"
        },
        "id": "SMoTm4ahebx8",
        "outputId": "9d9b0111-fd09-4351-e2c7-89c211a85b7b"
      },
      "execution_count": 6,
      "outputs": [
        {
          "output_type": "stream",
          "name": "stdout",
          "text": [
            "[10 20 30]\n"
          ]
        }
      ]
    },
    {
      "cell_type": "code",
      "source": [
        "a = np.array([1,2,3,5,8])\n",
        "b = np.array([0,3,4,2,1])\n",
        "c = a + b\n",
        "print(c)\n",
        "c = c*a\n",
        "print (c[2])"
      ],
      "metadata": {
        "colab": {
          "base_uri": "https://localhost:8080/"
        },
        "id": "BOGU5FcCetYY",
        "outputId": "e5a0edc4-486f-4925-ef6e-a1db55ac96b9"
      },
      "execution_count": 7,
      "outputs": [
        {
          "output_type": "stream",
          "name": "stdout",
          "text": [
            "[1 5 7 7 9]\n",
            "21\n"
          ]
        }
      ]
    },
    {
      "cell_type": "code",
      "source": [
        "a = np.array([1,2,3,5,8])\n",
        "a = a + 1\n",
        "print (a[1])"
      ],
      "metadata": {
        "colab": {
          "base_uri": "https://localhost:8080/"
        },
        "id": "4FE9baYef_U8",
        "outputId": "60c60bfb-dd0d-4bbd-8125-88f1855429a7"
      },
      "execution_count": 8,
      "outputs": [
        {
          "output_type": "stream",
          "name": "stdout",
          "text": [
            "3\n"
          ]
        }
      ]
    },
    {
      "cell_type": "code",
      "source": [
        "a = np.array([[1,2,3],[0,1,4]])\n",
        "print (a.size)"
      ],
      "metadata": {
        "colab": {
          "base_uri": "https://localhost:8080/"
        },
        "id": "5pLML_NfgLnz",
        "outputId": "04eaa405-0307-4ef4-9dde-5a9c2d99b125"
      },
      "execution_count": 9,
      "outputs": [
        {
          "output_type": "stream",
          "name": "stdout",
          "text": [
            "6\n"
          ]
        }
      ]
    },
    {
      "cell_type": "code",
      "source": [
        "a = np.array([1,2,3,5,8])\n",
        "print (a.ndim)\n",
        "print (a.shape)\n",
        "#Errors\n",
        "print (a.describe)\n",
        "print (a.ndim.describe)\n",
        "print (a.shape())\n"
      ],
      "metadata": {
        "colab": {
          "base_uri": "https://localhost:8080/",
          "height": 269
        },
        "id": "q4QitEoFgP7z",
        "outputId": "4916acce-6f95-4216-ec46-165dcac2d986"
      },
      "execution_count": 10,
      "outputs": [
        {
          "output_type": "stream",
          "name": "stdout",
          "text": [
            "1\n",
            "(5,)\n"
          ]
        },
        {
          "output_type": "error",
          "ename": "AttributeError",
          "evalue": "ignored",
          "traceback": [
            "\u001b[0;31m---------------------------------------------------------------------------\u001b[0m",
            "\u001b[0;31mAttributeError\u001b[0m                            Traceback (most recent call last)",
            "\u001b[0;32m<ipython-input-10-2b05f9ef7667>\u001b[0m in \u001b[0;36m<module>\u001b[0;34m()\u001b[0m\n\u001b[1;32m      2\u001b[0m \u001b[0mprint\u001b[0m \u001b[0;34m(\u001b[0m\u001b[0ma\u001b[0m\u001b[0;34m.\u001b[0m\u001b[0mndim\u001b[0m\u001b[0;34m)\u001b[0m\u001b[0;34m\u001b[0m\u001b[0;34m\u001b[0m\u001b[0m\n\u001b[1;32m      3\u001b[0m \u001b[0mprint\u001b[0m \u001b[0;34m(\u001b[0m\u001b[0ma\u001b[0m\u001b[0;34m.\u001b[0m\u001b[0mshape\u001b[0m\u001b[0;34m)\u001b[0m\u001b[0;34m\u001b[0m\u001b[0;34m\u001b[0m\u001b[0m\n\u001b[0;32m----> 4\u001b[0;31m \u001b[0mprint\u001b[0m \u001b[0;34m(\u001b[0m\u001b[0ma\u001b[0m\u001b[0;34m.\u001b[0m\u001b[0mdescribe\u001b[0m\u001b[0;34m)\u001b[0m\u001b[0;34m\u001b[0m\u001b[0;34m\u001b[0m\u001b[0m\n\u001b[0m\u001b[1;32m      5\u001b[0m \u001b[0mprint\u001b[0m \u001b[0;34m(\u001b[0m\u001b[0ma\u001b[0m\u001b[0;34m.\u001b[0m\u001b[0mndim\u001b[0m\u001b[0;34m.\u001b[0m\u001b[0mdescribe\u001b[0m\u001b[0;34m)\u001b[0m\u001b[0;34m\u001b[0m\u001b[0;34m\u001b[0m\u001b[0m\n\u001b[1;32m      6\u001b[0m \u001b[0mprint\u001b[0m \u001b[0;34m(\u001b[0m\u001b[0ma\u001b[0m\u001b[0;34m.\u001b[0m\u001b[0mshape\u001b[0m\u001b[0;34m(\u001b[0m\u001b[0;34m)\u001b[0m\u001b[0;34m)\u001b[0m\u001b[0;34m\u001b[0m\u001b[0;34m\u001b[0m\u001b[0m\n",
            "\u001b[0;31mAttributeError\u001b[0m: 'numpy.ndarray' object has no attribute 'describe'"
          ]
        }
      ]
    },
    {
      "cell_type": "code",
      "source": [
        "a = np.array([[1,2,3],[0,1,4]])\n",
        "b = np.zeros((2,3), dtype=np.int16)\n",
        "c = np.ones((2,3), dtype=np.int16)\n",
        "d = a + b + c\n",
        "print(d)\n",
        "print(d[1,2])\n",
        "print(d.size)\n",
        "#Errors\n",
        "print(a.zeroes())"
      ],
      "metadata": {
        "colab": {
          "base_uri": "https://localhost:8080/",
          "height": 269
        },
        "id": "OVGtsVcEijHz",
        "outputId": "af9d7db2-00fa-4755-d737-e5088e514a2e"
      },
      "execution_count": 11,
      "outputs": [
        {
          "output_type": "stream",
          "name": "stdout",
          "text": [
            "[[2 3 4]\n",
            " [1 2 5]]\n",
            "5\n",
            "6\n"
          ]
        },
        {
          "output_type": "error",
          "ename": "AttributeError",
          "evalue": "ignored",
          "traceback": [
            "\u001b[0;31m---------------------------------------------------------------------------\u001b[0m",
            "\u001b[0;31mAttributeError\u001b[0m                            Traceback (most recent call last)",
            "\u001b[0;32m<ipython-input-11-2efe33bb0c47>\u001b[0m in \u001b[0;36m<module>\u001b[0;34m()\u001b[0m\n\u001b[1;32m      6\u001b[0m \u001b[0mprint\u001b[0m\u001b[0;34m(\u001b[0m\u001b[0md\u001b[0m\u001b[0;34m[\u001b[0m\u001b[0;36m1\u001b[0m\u001b[0;34m,\u001b[0m\u001b[0;36m2\u001b[0m\u001b[0;34m]\u001b[0m\u001b[0;34m)\u001b[0m\u001b[0;34m\u001b[0m\u001b[0;34m\u001b[0m\u001b[0m\n\u001b[1;32m      7\u001b[0m \u001b[0mprint\u001b[0m\u001b[0;34m(\u001b[0m\u001b[0md\u001b[0m\u001b[0;34m.\u001b[0m\u001b[0msize\u001b[0m\u001b[0;34m)\u001b[0m\u001b[0;34m\u001b[0m\u001b[0;34m\u001b[0m\u001b[0m\n\u001b[0;32m----> 8\u001b[0;31m \u001b[0mprint\u001b[0m\u001b[0;34m(\u001b[0m\u001b[0ma\u001b[0m\u001b[0;34m.\u001b[0m\u001b[0mzeroes\u001b[0m\u001b[0;34m(\u001b[0m\u001b[0;34m)\u001b[0m\u001b[0;34m)\u001b[0m\u001b[0;34m\u001b[0m\u001b[0;34m\u001b[0m\u001b[0m\n\u001b[0m",
            "\u001b[0;31mAttributeError\u001b[0m: 'numpy.ndarray' object has no attribute 'zeroes'"
          ]
        }
      ]
    },
    {
      "cell_type": "markdown",
      "source": [
        "# 4. You have a matrix defined as below:\n",
        "\n",
        "#### A = np.array([[6, 1, 1], [4, -2, 5], [2, 8, 7]])"
      ],
      "metadata": {
        "id": "rLsuiqB2l8Om"
      }
    },
    {
      "cell_type": "code",
      "source": [
        "A = np.array([[6, 1, 1], [4, -2, 5], [2, 8, 7]])\n",
        "print(f\"Rank of the matrix is: {np.linalg.matrix_rank(A)}\")\n",
        "print(f\"Determinant of the matrix is: {np.linalg.det(A)}\")\n",
        "print(f\"Trace of the matrix is: {np.matrix.trace(A)}\")\n",
        "print(f\"Inverse of the matrix is: {np.linalg.inv(A)}\")\n",
        "print(f\"Transpose of the matrix is: {np.matrix.transpose(A)}\")"
      ],
      "metadata": {
        "colab": {
          "base_uri": "https://localhost:8080/"
        },
        "id": "TnDDj6VdjYrz",
        "outputId": "28fa7b27-df3a-4cd9-ce58-58f767f466b3"
      },
      "execution_count": 12,
      "outputs": [
        {
          "output_type": "stream",
          "name": "stdout",
          "text": [
            "Rank of the matrix is: 3\n",
            "Determinant of the matrix is: -306.0\n",
            "Trace of the matrix is: 11\n",
            "Inverse of the matrix is: [[ 0.17647059 -0.00326797 -0.02287582]\n",
            " [ 0.05882353 -0.13071895  0.08496732]\n",
            " [-0.11764706  0.1503268   0.05228758]]\n",
            "Transpose of the matrix is: [[ 6  4  2]\n",
            " [ 1 -2  8]\n",
            " [ 1  5  7]]\n"
          ]
        }
      ]
    },
    {
      "cell_type": "markdown",
      "source": [
        "# 5. Type these lines of code and check the output for each of them."
      ],
      "metadata": {
        "id": "HAsIbz3jmQe1"
      }
    },
    {
      "cell_type": "code",
      "source": [
        "list1 = [1, 2, 3, 4 ,5, 6]\n",
        "list2 = [10, 9, 8, 7, 6, 5]"
      ],
      "metadata": {
        "id": "QVGjn9z5j-LP"
      },
      "execution_count": 13,
      "outputs": []
    },
    {
      "cell_type": "code",
      "source": [
        "#Will throw error\n",
        "print(f\"Multiplication of Lists: {list1*list2}\")\n",
        "print(f\"Addition of Lists: {list1+list2}\")\n",
        "print(f\"Modulus of Lists: {list1%list2}\")\n",
        "print(f\"Division of Lists: {list1/list2}\")\n",
        "print(f\"Subtraction of Lists: {list1-list2}\")\n",
        "print(f\"XOR of Lists: {list1^list2}\")"
      ],
      "metadata": {
        "colab": {
          "base_uri": "https://localhost:8080/",
          "height": 235
        },
        "id": "0XQU7lfFmWAo",
        "outputId": "eb2f5604-4099-43c5-e0c1-ede8379e755c"
      },
      "execution_count": 14,
      "outputs": [
        {
          "output_type": "error",
          "ename": "TypeError",
          "evalue": "ignored",
          "traceback": [
            "\u001b[0;31m---------------------------------------------------------------------------\u001b[0m",
            "\u001b[0;31mTypeError\u001b[0m                                 Traceback (most recent call last)",
            "\u001b[0;32m<ipython-input-14-f06a26116445>\u001b[0m in \u001b[0;36m<module>\u001b[0;34m()\u001b[0m\n\u001b[1;32m      1\u001b[0m \u001b[0;31m#Will throw error\u001b[0m\u001b[0;34m\u001b[0m\u001b[0;34m\u001b[0m\u001b[0;34m\u001b[0m\u001b[0m\n\u001b[0;32m----> 2\u001b[0;31m \u001b[0mprint\u001b[0m\u001b[0;34m(\u001b[0m\u001b[0;34mf\"Multiplication of Lists: {list1*list2}\"\u001b[0m\u001b[0;34m)\u001b[0m\u001b[0;34m\u001b[0m\u001b[0;34m\u001b[0m\u001b[0m\n\u001b[0m\u001b[1;32m      3\u001b[0m \u001b[0mprint\u001b[0m\u001b[0;34m(\u001b[0m\u001b[0;34mf\"Addition of Lists: {list1+list2}\"\u001b[0m\u001b[0;34m)\u001b[0m\u001b[0;34m\u001b[0m\u001b[0;34m\u001b[0m\u001b[0m\n\u001b[1;32m      4\u001b[0m \u001b[0mprint\u001b[0m\u001b[0;34m(\u001b[0m\u001b[0;34mf\"Modulus of Lists: {list1%list2}\"\u001b[0m\u001b[0;34m)\u001b[0m\u001b[0;34m\u001b[0m\u001b[0;34m\u001b[0m\u001b[0m\n\u001b[1;32m      5\u001b[0m \u001b[0mprint\u001b[0m\u001b[0;34m(\u001b[0m\u001b[0;34mf\"Division of Lists: {list1/list2}\"\u001b[0m\u001b[0;34m)\u001b[0m\u001b[0;34m\u001b[0m\u001b[0;34m\u001b[0m\u001b[0m\n",
            "\u001b[0;31mTypeError\u001b[0m: can't multiply sequence by non-int of type 'list'"
          ]
        }
      ]
    },
    {
      "cell_type": "markdown",
      "source": [
        "# 6. Type these lines of code and check the output for each of them."
      ],
      "metadata": {
        "id": "XkqWKiwLkBrG"
      }
    },
    {
      "cell_type": "code",
      "source": [
        "list1 = np.array([1, 2, 3, 4 ,5, 6])\n",
        "list2 = np.array([10, 9, 8, 7, 6, 5])"
      ],
      "metadata": {
        "id": "hKzVhgAGjo5F"
      },
      "execution_count": 15,
      "outputs": []
    },
    {
      "cell_type": "code",
      "source": [
        "print(f\"Multiplication of Lists: {list1*list2}\")\n",
        "print(f\"Addition of Lists: {list1+list2}\")\n",
        "print(f\"Modulus of Lists: {list1%list2}\")\n",
        "print(f\"Division of Lists: {list1/list2}\")\n",
        "print(f\"Subtraction of Lists: {list1-list2}\")\n",
        "print(f\"XOR of Lists: {list1^list2}\")"
      ],
      "metadata": {
        "colab": {
          "base_uri": "https://localhost:8080/"
        },
        "id": "LR7ZduLwj51l",
        "outputId": "1ab7eaf0-e752-42b7-caee-e66b6b8638db"
      },
      "execution_count": 16,
      "outputs": [
        {
          "output_type": "stream",
          "name": "stdout",
          "text": [
            "Multiplication of Lists: [10 18 24 28 30 30]\n",
            "Addition of Lists: [11 11 11 11 11 11]\n",
            "Modulus of Lists: [1 2 3 4 5 1]\n",
            "Division of Lists: [0.1        0.22222222 0.375      0.57142857 0.83333333 1.2       ]\n",
            "Subtraction of Lists: [-9 -7 -5 -3 -1  1]\n",
            "XOR of Lists: [11 11 11  3  3  3]\n"
          ]
        }
      ]
    },
    {
      "cell_type": "code",
      "source": [
        ""
      ],
      "metadata": {
        "id": "7ojdSDKqk3fV"
      },
      "execution_count": null,
      "outputs": []
    }
  ]
}