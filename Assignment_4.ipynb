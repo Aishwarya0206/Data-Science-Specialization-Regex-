{
  "nbformat": 4,
  "nbformat_minor": 0,
  "metadata": {
    "colab": {
      "name": "Assignment_4.ipynb",
      "provenance": [],
      "collapsed_sections": []
    },
    "kernelspec": {
      "name": "python3",
      "display_name": "Python 3"
    },
    "language_info": {
      "name": "python"
    }
  },
  "cells": [
    {
      "cell_type": "code",
      "metadata": {
        "colab": {
          "base_uri": "https://localhost:8080/",
          "height": 35
        },
        "id": "cYzZj3kaIU8o",
        "outputId": "c550d0ca-4354-4522-ca1a-5a8c3602b204"
      },
      "source": [
        "#Replace last JAVA to PYTHON\n",
        "str1 = \"\"\"JAVA IS a OOPS LANGUAGE\n",
        "            I'M A JAVA DEVELOPER\n",
        "                I LOVE JAVA\"\"\"\n",
        "str1.replace(\"LOVE JAVA\", \"LOVE PYTHON\")"
      ],
      "execution_count": 1,
      "outputs": [
        {
          "output_type": "execute_result",
          "data": {
            "application/vnd.google.colaboratory.intrinsic+json": {
              "type": "string"
            },
            "text/plain": [
              "\"JAVA IS a OOPS LANGUAGE\\n            I'M A JAVA DEVELOPER\\n                I LOVE PYTHON\""
            ]
          },
          "metadata": {},
          "execution_count": 1
        }
      ]
    },
    {
      "cell_type": "code",
      "metadata": {
        "colab": {
          "base_uri": "https://localhost:8080/"
        },
        "id": "DvF3dBocKkA0",
        "outputId": "f5f6b353-07c9-4cbe-91ed-6131ec9fa398"
      },
      "source": [
        "#Entered string is float or not\n",
        "input1 = str(input(\"Enter a float value:\"))\n",
        "print(\"IsFloat: \"+str(input1.replace(\".\",'',1).isdigit()))"
      ],
      "execution_count": 2,
      "outputs": [
        {
          "output_type": "stream",
          "name": "stdout",
          "text": [
            "Enter a float value:12\n",
            "IsFloat: True\n"
          ]
        }
      ]
    },
    {
      "cell_type": "code",
      "metadata": {
        "colab": {
          "base_uri": "https://localhost:8080/"
        },
        "id": "SPeE-te-Q6qL",
        "outputId": "681ffb61-913d-43e3-e8ed-00e4fd77a92b"
      },
      "source": [
        "#Count numbers in the string\n",
        "s1 = \"w64s7u45h11y453117abci\"\n",
        "c = 0\n",
        "print(\"Length of a string: \",len(s1))\n",
        "c+=s1[0].isdigit()\n",
        "c+=s1[1].isdigit()\n",
        "c+=s1[2].isdigit()\n",
        "c+=s1[3].isdigit()\n",
        "c+=s1[4].isdigit()\n",
        "c+=s1[5].isdigit()\n",
        "c+=s1[6].isdigit()\n",
        "c+=s1[7].isdigit()\n",
        "c+=s1[8].isdigit()\n",
        "c+=s1[9].isdigit()\n",
        "c+=s1[10].isdigit()\n",
        "c+=s1[11].isdigit()\n",
        "c+=s1[12].isdigit()\n",
        "c+=s1[13].isdigit()\n",
        "c+=s1[14].isdigit()\n",
        "c+=s1[15].isdigit()\n",
        "c+=s1[16].isdigit()\n",
        "c+=s1[17].isdigit()\n",
        "c+=s1[18].isdigit()\n",
        "c+=s1[19].isdigit()\n",
        "c+=s1[20].isdigit()\n",
        "c+=s1[21].isdigit()\n",
        "print(\"Count of numbers in the string: \"+str(c))"
      ],
      "execution_count": 3,
      "outputs": [
        {
          "output_type": "stream",
          "name": "stdout",
          "text": [
            "Length of a string:  22\n",
            "Count of numbers in the string: 13\n"
          ]
        }
      ]
    }
  ]
}