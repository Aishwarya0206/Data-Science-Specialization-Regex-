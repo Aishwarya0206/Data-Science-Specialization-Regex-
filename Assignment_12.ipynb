{
  "nbformat": 4,
  "nbformat_minor": 0,
  "metadata": {
    "colab": {
      "name": "Assignment_12.ipynb",
      "provenance": [],
      "collapsed_sections": []
    },
    "kernelspec": {
      "name": "python3",
      "display_name": "Python 3"
    },
    "language_info": {
      "name": "python"
    }
  },
  "cells": [
    {
      "cell_type": "markdown",
      "source": [
        "## Question 1. \n",
        "  Take any value from the user, print “odd” if the value entered is odd and print “even” otherwise."
      ],
      "metadata": {
        "id": "S_aPk_A34Cl5"
      }
    },
    {
      "cell_type": "code",
      "execution_count": 1,
      "metadata": {
        "colab": {
          "base_uri": "https://localhost:8080/"
        },
        "id": "COwe4MPz39dC",
        "outputId": "ab81729d-3839-4085-8e87-0de51ebfdb02"
      },
      "outputs": [
        {
          "output_type": "stream",
          "name": "stdout",
          "text": [
            "Enter a number: 57\n",
            "Odd\n"
          ]
        }
      ],
      "source": [
        "number = int(input(\"Enter a number: \"))\n",
        "if(number%2 != 0):\n",
        "  print(\"Odd\")\n",
        "else:\n",
        "  print(\"Even\")"
      ]
    },
    {
      "cell_type": "markdown",
      "source": [
        "## Question 2. \n",
        "Take input from the user and check if the number is a complex number. a complex\n",
        "number is the sum of a real number and an imaginary number. For example: 5+2i"
      ],
      "metadata": {
        "id": "yW1JMWmN5g30"
      }
    },
    {
      "cell_type": "code",
      "source": [
        "userInput = input(\"Enter a complex number: \")\n",
        "try:\n",
        "  userInput_1 = complex(userInput)\n",
        "  if(isinstance(userInput_1, complex)):\n",
        "    print(f\"{userInput} is complex and it's complex value is {userInput_1}\") \n",
        "  else:\n",
        "    print(f'{userInput} is not complex')\n",
        "except ValueError:\n",
        "  print(f'{userInput} is not complex')\n"
      ],
      "metadata": {
        "colab": {
          "base_uri": "https://localhost:8080/"
        },
        "id": "t4TncJif5Ou3",
        "outputId": "2ff0e43a-70f5-4ab2-b223-36e49428afa2"
      },
      "execution_count": 2,
      "outputs": [
        {
          "output_type": "stream",
          "name": "stdout",
          "text": [
            "Enter a complex number: 67\n",
            "67 is complex and it's complex value is (67+0j)\n"
          ]
        }
      ]
    },
    {
      "cell_type": "markdown",
      "source": [
        "## Question 3. \n",
        "  Create a program to enter marks from the user out of 100 and display grades as per the following 90-100 (A), 75 to 90 (B), 60 to 75 (C), 45 to 60 (D), 33 to 45 (E) and remaining all are F."
      ],
      "metadata": {
        "id": "_7X7aubq_TQn"
      }
    },
    {
      "cell_type": "code",
      "source": [
        "marks = [float(mark) for mark in input().split()]\n",
        "avg = sum(marks)/5\n",
        "if(avg>=90):\n",
        "  print(f\"Average: {avg} & Grade: A\")\n",
        "elif(avg>=75 and avg<90):\n",
        "  print(f\"Average: {avg} & Grade: B\")\n",
        "elif(avg>=60 and avg<75):\n",
        "  print(f\"Average: {avg} & Grade: C\")\n",
        "elif(avg>=45 and avg<60):\n",
        "  print(f\"Average: {avg} & Grade: D\")\n",
        "elif(avg>=33 and avg<45):\n",
        "  print(f\"Average: {avg} & Grade: E\")\n",
        "else:\n",
        "  print(f\"Average: {avg} & Grade: F\")"
      ],
      "metadata": {
        "colab": {
          "base_uri": "https://localhost:8080/"
        },
        "id": "9FY6aJvV7Nn3",
        "outputId": "43f28595-c132-4f4b-9b6c-03e48eacd6cc"
      },
      "execution_count": 3,
      "outputs": [
        {
          "output_type": "stream",
          "name": "stdout",
          "text": [
            "78 89 98 99 77\n",
            "Average: 88.2 & Grade: B\n"
          ]
        }
      ]
    },
    {
      "cell_type": "markdown",
      "source": [
        "## Question 4. \n",
        "  Say three integers have been given. Determine how many of them are equal to each other. Create a program to print 3 (if all 3 are same), 2 (if 2 are same) and 0 (if all numbers are different)"
      ],
      "metadata": {
        "id": "beQ-PKE2BmAA"
      }
    },
    {
      "cell_type": "code",
      "source": [
        "lst_of_3_nos = [int(x) for x in input().split()]\n",
        "if(lst_of_3_nos[0] == lst_of_3_nos[1] == lst_of_3_nos[2]):\n",
        "  print(3)\n",
        "elif((lst_of_3_nos[0] == lst_of_3_nos[1]) or (lst_of_3_nos[1] == lst_of_3_nos[2]) or (lst_of_3_nos[0]== lst_of_3_nos[2])):\n",
        "  print(2)\n",
        "else:\n",
        "  print(0)"
      ],
      "metadata": {
        "colab": {
          "base_uri": "https://localhost:8080/"
        },
        "id": "yhwphzizA6X5",
        "outputId": "e48771ca-b490-4345-c6da-0898a62f4af3"
      },
      "execution_count": 6,
      "outputs": [
        {
          "output_type": "stream",
          "name": "stdout",
          "text": [
            "12 5 12\n",
            "2\n"
          ]
        }
      ]
    },
    {
      "cell_type": "markdown",
      "source": [
        "## Question 5. \n",
        "  A truck runs a distance of N kms per day. Write a program to calculate how many days will be taken to cover M kms."
      ],
      "metadata": {
        "id": "z05wtA27EfEE"
      }
    },
    {
      "cell_type": "code",
      "source": [
        "import math\n",
        "N, M = [int(x) for x in input().split()]\n",
        "time_taken_to_cover_N_distance_in_days = 1\n",
        "if(M>N):\n",
        "  print(f\"Within {math.ceil(M/N)} days {M} kms distance will be covered\")\n",
        "elif(M<N):\n",
        "  print(f\"Less than {math.ceil(1/M)} day will be taken to cover {M} kms distance\")\n",
        "else:\n",
        "  print(f\"{time_taken_to_cover_N_distance_in_days} day is taken to cover {M} kms distance\")"
      ],
      "metadata": {
        "colab": {
          "base_uri": "https://localhost:8080/"
        },
        "id": "8i0CE03cCJ9b",
        "outputId": "4d12910e-af06-45fd-b91d-873acedce0c9"
      },
      "execution_count": 5,
      "outputs": [
        {
          "output_type": "stream",
          "name": "stdout",
          "text": [
            "12 144\n",
            "Within 12 days 144 kms distance will be covered\n"
          ]
        }
      ]
    },
    {
      "cell_type": "markdown",
      "source": [
        "## Question 6. \n",
        "  Pass your name, surname, phone_no, hobbies in a python script and get all the passed values in a line without space."
      ],
      "metadata": {
        "id": "pR7cQvTyGKWe"
      }
    },
    {
      "cell_type": "code",
      "source": [
        "lst = [x for x in input().split(',')]\n",
        "for i in lst:\n",
        "  print(i.strip(), end = '')"
      ],
      "metadata": {
        "colab": {
          "base_uri": "https://localhost:8080/"
        },
        "id": "CdTwwaYzGPkU",
        "outputId": "5c2d1425-e69d-44fc-8363-43f999b6062d"
      },
      "execution_count": 7,
      "outputs": [
        {
          "output_type": "stream",
          "name": "stdout",
          "text": [
            "Aishwarya,Balaji,9876543210,Programming\n",
            "AishwaryaBalaji9876543210Programming"
          ]
        }
      ]
    },
    {
      "cell_type": "markdown",
      "source": [
        "## Question 7. \n",
        "Write a python script to\n",
        "*   separate 2,3,6 characters from your ID.\n",
        "*   To print character 2 to 5 in your name and surname.\n",
        "*   Print all the characters of your name and surname\n",
        "\n",
        "\n",
        "\n"
      ],
      "metadata": {
        "id": "qP3iQy51IryJ"
      }
    },
    {
      "cell_type": "code",
      "source": [
        "lst_of_personal_info = [x for x in input().split(',')]\n",
        "id = lst_of_personal_info[0]\n",
        "print(id[2], id[3], id[6])\n",
        "name = lst_of_personal_info[1]\n",
        "surname = lst_of_personal_info[2]\n",
        "print(name[2:6], surname[2:6])\n",
        "print(name[:], surname[:])"
      ],
      "metadata": {
        "colab": {
          "base_uri": "https://localhost:8080/"
        },
        "id": "6BUZVWXRG6GD",
        "outputId": "54466b3d-8f13-49a0-ade3-da44714068e6"
      },
      "execution_count": 8,
      "outputs": [
        {
          "output_type": "stream",
          "name": "stdout",
          "text": [
            "EMP1234,Aishwarya,Balaji\n",
            "P 1 4\n",
            "shwa laji\n",
            "Aishwarya Balaji\n"
          ]
        }
      ]
    },
    {
      "cell_type": "markdown",
      "source": [
        "## Question 8. \n",
        "  Write your short introduction in a text file. Your introduction consists of Name, Id, contact number, Address, Stream, Joining date, Qualification, Hobbies, Strength and weakness. Pass this file to python. Your task is to calculate total characters, numbers, words and lines used in this introduction file."
      ],
      "metadata": {
        "id": "UiwEQDAGTp7G"
      }
    },
    {
      "cell_type": "code",
      "source": [
        "!echo \"Name: Aishwarya B \\n Id: EMP1234 \\n Address: 56, North car street, Thoothukudi, Tamilnadu \\n Stream: Computer Science \\n Qualification: MCA \\n Hobbies: Playing Chess \\n Strength: Ability to grow knowledge \\n Weakness: De-motivation\" > introduction.txt"
      ],
      "metadata": {
        "id": "tEA2mvQ4KsFD"
      },
      "execution_count": 9,
      "outputs": []
    },
    {
      "cell_type": "code",
      "source": [
        "with open(\"introduction.txt\", 'r') as file:\n",
        "  number_count = 0\n",
        "  character_count = 0\n",
        "  word_count = 0\n",
        "  line_count = 0\n",
        "  for i in file.readlines():\n",
        "    line_count += 1\n",
        "    words = i.split()\n",
        "    for word in words:\n",
        "      word_count+=1\n",
        "    for j in i:\n",
        "      if(j.isdigit()):\n",
        "        number_count+=1\n",
        "      if(j.isalpha()):\n",
        "        character_count+=1\n",
        "print(\"Line count:\",line_count)\n",
        "print(\"Numbers:\",number_count)\n",
        "print(\"Characters:\",character_count)\n",
        "print(\"Words:\",word_count)"
      ],
      "metadata": {
        "colab": {
          "base_uri": "https://localhost:8080/"
        },
        "id": "_Rj-UCQRURVg",
        "outputId": "4afd741d-4ed3-4135-aa03-6a7c7dd956e5"
      },
      "execution_count": 10,
      "outputs": [
        {
          "output_type": "stream",
          "name": "stdout",
          "text": [
            "Line count: 8\n",
            "Numbers: 6\n",
            "Characters: 166\n",
            "Words: 27\n"
          ]
        }
      ]
    },
    {
      "cell_type": "markdown",
      "source": [
        "## Question 9. \n",
        "Create a function that performs division of numbers.Since divide by zero gives an infinite so if a number which is denominator and 0 must give an exception while performing division operation."
      ],
      "metadata": {
        "id": "GjrJFYuafVI9"
      }
    },
    {
      "cell_type": "code",
      "source": [
        "def divisionOfNumbers(num1, num2):\n",
        "  return(num1/num2)"
      ],
      "metadata": {
        "id": "52kL1wyEWKaE"
      },
      "execution_count": 11,
      "outputs": []
    },
    {
      "cell_type": "code",
      "source": [
        "x, y = [int(z) for z in input().split()]\n",
        "try:\n",
        "  div = divisionOfNumbers(x,y)\n",
        "  print(div)\n",
        "except ZeroDivisionError as exp:\n",
        "  print(f\"{exp} error is handled\")"
      ],
      "metadata": {
        "colab": {
          "base_uri": "https://localhost:8080/"
        },
        "id": "4XOVdygQfqtz",
        "outputId": "04d598d6-1867-43af-cf6c-98f2008f5b7c"
      },
      "execution_count": 12,
      "outputs": [
        {
          "output_type": "stream",
          "name": "stdout",
          "text": [
            "12 0\n",
            "division by zero error is handled\n"
          ]
        }
      ]
    },
    {
      "cell_type": "markdown",
      "source": [
        "## Question 10. \n",
        "  Create a file in read only mode. Open this file using python and try to write your contact number in that file. As this file is write protected so an exception should occur. Handle this exception using python script."
      ],
      "metadata": {
        "id": "YkwHScQ0gatb"
      }
    },
    {
      "cell_type": "code",
      "source": [
        "filename = input(\"Enter a file name: \")\n",
        "try:\n",
        "  with open(filename+\".txt\", 'r') as file:\n",
        "    file.write(\"Contact Number: 9876543210\")\n",
        "  print(\"Written successfully\")\n",
        "except Exception as ex:\n",
        "  print(f\"File {ex} is handled\")"
      ],
      "metadata": {
        "colab": {
          "base_uri": "https://localhost:8080/"
        },
        "id": "zygd7ZBQgUNH",
        "outputId": "cbfaa80e-3729-47e2-b84c-0766610599cf"
      },
      "execution_count": 13,
      "outputs": [
        {
          "output_type": "stream",
          "name": "stdout",
          "text": [
            "Enter a file name: introduction\n",
            "File not writable is handled\n"
          ]
        }
      ]
    },
    {
      "cell_type": "markdown",
      "source": [
        "## Question 11. \n",
        "Create an html generator using:\n",
        "*   A base class with a couple methods\n",
        "*   Subclass overriding class attributes\n",
        "*   Subclass overriding a method\n",
        "*   Subclass overriding the __init__"
      ],
      "metadata": {
        "id": "jAdHoUAyhvS2"
      }
    },
    {
      "cell_type": "code",
      "source": [
        "class BaseClass:\n",
        "  html_temp = \"\"\"<html><head></head><body><p>Hello Class! </p></body></html>\"\"\"\n",
        "  def __init__(self, filename):\n",
        "    self.filename = filename\n",
        "  def writeMethod(self):\n",
        "    with open(self.filename+\".html\", 'w') as f:\n",
        "      f.write(self.html_temp)\n",
        "      print(\"Completed write method from parent class\")\n",
        "  def readMethod(self, format):\n",
        "    with open(self.filename+\".html\", format) as file:\n",
        "      for line in file:\n",
        "        print(line.split(\"<p>\"))\n",
        "      print(\"Completed read method from parent class\")\n",
        "\n",
        "class SubClass(BaseClass):\n",
        "  #Subclass overriding class attributes\n",
        "  html_temp = \"\"\"<html><head></head><body><p>Hello SubClass! </p></body></html>\"\"\"\n",
        "  html_temp_base = BaseClass.html_temp\n",
        "  #Subclass overriding the __init__\n",
        "  def __init__(self, filename):\n",
        "    super(SubClass, self).__init__(filename)\n",
        "    self.filename = filename\n",
        "  def writeMethod(self):\n",
        "    super().writeMethod()\n",
        "    print(\"Completed write method from child class\")\n",
        "  #Subclass overriding a method\n",
        "  def readMethod(self, format):\n",
        "    super().readMethod(format)\n",
        "    with open(self.filename+\".html\", format) as file:\n",
        "      print(file.read())\n",
        "    print(\"Completed read method from child class\")"
      ],
      "metadata": {
        "id": "8FRzqAG_hgos"
      },
      "execution_count": 14,
      "outputs": []
    },
    {
      "cell_type": "code",
      "source": [
        "subclass = SubClass(\"helloSample\")"
      ],
      "metadata": {
        "id": "eVeBV33Y7OcA"
      },
      "execution_count": 15,
      "outputs": []
    },
    {
      "cell_type": "code",
      "source": [
        "print(subclass.html_temp_base)\n",
        "print(subclass.html_temp)"
      ],
      "metadata": {
        "colab": {
          "base_uri": "https://localhost:8080/"
        },
        "id": "7mrTcvAqkiqV",
        "outputId": "cda178a0-8a5d-4eda-a573-0dd21492ce24"
      },
      "execution_count": 16,
      "outputs": [
        {
          "output_type": "stream",
          "name": "stdout",
          "text": [
            "<html><head></head><body><p>Hello Class! </p></body></html>\n",
            "<html><head></head><body><p>Hello SubClass! </p></body></html>\n"
          ]
        }
      ]
    },
    {
      "cell_type": "code",
      "source": [
        "subclass.writeMethod()"
      ],
      "metadata": {
        "id": "vu0B0Wlz7o4y",
        "colab": {
          "base_uri": "https://localhost:8080/"
        },
        "outputId": "2edb5b29-f6a2-4b47-eb7b-93701b7b4c51"
      },
      "execution_count": 17,
      "outputs": [
        {
          "output_type": "stream",
          "name": "stdout",
          "text": [
            "Completed write method from parent class\n",
            "Completed write method from child class\n"
          ]
        }
      ]
    },
    {
      "cell_type": "code",
      "source": [
        "print(subclass.readMethod('r'))"
      ],
      "metadata": {
        "colab": {
          "base_uri": "https://localhost:8080/"
        },
        "id": "EA3KyS_q736e",
        "outputId": "b461313e-95d5-4568-fe9b-5286bd040477"
      },
      "execution_count": 18,
      "outputs": [
        {
          "output_type": "stream",
          "name": "stdout",
          "text": [
            "['<html><head></head><body>', 'Hello SubClass! </p></body></html>']\n",
            "Completed read method from parent class\n",
            "<html><head></head><body><p>Hello SubClass! </p></body></html>\n",
            "Completed read method from child class\n",
            "None\n"
          ]
        }
      ]
    },
    {
      "cell_type": "markdown",
      "source": [
        "## Question 12. \n",
        "Create an html generator using:\n",
        "*   A base class with a couple methods\n",
        "*   Subclass overriding class attributes\n",
        "*   Subclass overriding a method\n",
        "*   Subclass overriding the __init__"
      ],
      "metadata": {
        "id": "jngW0t89NzMk"
      }
    },
    {
      "cell_type": "code",
      "source": [
        "class BaseClass:\n",
        "  html_temp = \"\"\"<html><head></head><body><p>Hello Class! </p></body></html>\"\"\"\n",
        "  def __init__(self, filename):\n",
        "    self.filename = filename\n",
        "  def writeMethod(self):\n",
        "    with open(self.filename+\".html\", 'w') as f:\n",
        "      f.write(self.html_temp)\n",
        "      print(\"Completed write method from parent class\")\n",
        "  def readMethod(self, format):\n",
        "    with open(self.filename+\".html\", format) as file:\n",
        "      for line in file:\n",
        "        print(line.split(\"<p>\"))\n",
        "      print(\"Completed read method from parent class\")\n",
        "\n",
        "class SubClass(BaseClass):\n",
        "  #Subclass overriding class attributes\n",
        "  html_temp = \"\"\"<html><head></head><body><p>Hello SubClass! </p></body></html>\"\"\"\n",
        "  html_temp_base = BaseClass.html_temp\n",
        "  #Subclass overriding the __init__\n",
        "  def __init__(self, filename):\n",
        "    super(SubClass, self).__init__(filename)\n",
        "    self.filename = filename\n",
        "  def writeMethod(self):\n",
        "    super().writeMethod()\n",
        "    print(\"Completed write method from child class\")\n",
        "  #Subclass overriding a method\n",
        "  def readMethod(self, format):\n",
        "    super().readMethod(format)\n",
        "    with open(self.filename+\".html\", format) as file:\n",
        "      print(file.read())\n",
        "    print(\"Completed read method from child class\")"
      ],
      "metadata": {
        "id": "PXTi3rLynwNN"
      },
      "execution_count": 19,
      "outputs": []
    },
    {
      "cell_type": "code",
      "source": [
        "subclass = SubClass(\"helloSample\")"
      ],
      "metadata": {
        "id": "xzkRnHKiN_6C"
      },
      "execution_count": 20,
      "outputs": []
    },
    {
      "cell_type": "code",
      "source": [
        "print(subclass.html_temp_base)\n",
        "print(subclass.html_temp)"
      ],
      "metadata": {
        "colab": {
          "base_uri": "https://localhost:8080/"
        },
        "id": "grp4x352OEfw",
        "outputId": "55336802-9687-454e-cc34-beabaa324138"
      },
      "execution_count": 21,
      "outputs": [
        {
          "output_type": "stream",
          "name": "stdout",
          "text": [
            "<html><head></head><body><p>Hello Class! </p></body></html>\n",
            "<html><head></head><body><p>Hello SubClass! </p></body></html>\n"
          ]
        }
      ]
    },
    {
      "cell_type": "code",
      "source": [
        "subclass.writeMethod()"
      ],
      "metadata": {
        "colab": {
          "base_uri": "https://localhost:8080/"
        },
        "id": "vl5tllcZOFR3",
        "outputId": "6cceb93f-f259-40d2-94f3-692de63b9374"
      },
      "execution_count": 22,
      "outputs": [
        {
          "output_type": "stream",
          "name": "stdout",
          "text": [
            "Completed write method from parent class\n",
            "Completed write method from child class\n"
          ]
        }
      ]
    },
    {
      "cell_type": "code",
      "source": [
        "print(subclass.readMethod('r'))"
      ],
      "metadata": {
        "colab": {
          "base_uri": "https://localhost:8080/"
        },
        "id": "mQhEJ1y2OJzx",
        "outputId": "d541a12b-e654-476e-a60e-ed49882585d3"
      },
      "execution_count": 23,
      "outputs": [
        {
          "output_type": "stream",
          "name": "stdout",
          "text": [
            "['<html><head></head><body>', 'Hello SubClass! </p></body></html>']\n",
            "Completed read method from parent class\n",
            "<html><head></head><body><p>Hello SubClass! </p></body></html>\n",
            "Completed read method from child class\n",
            "None\n"
          ]
        }
      ]
    },
    {
      "cell_type": "code",
      "source": [
        ""
      ],
      "metadata": {
        "id": "kP-puMYoOMcC"
      },
      "execution_count": null,
      "outputs": []
    }
  ]
}