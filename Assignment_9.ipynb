{
  "nbformat": 4,
  "nbformat_minor": 0,
  "metadata": {
    "colab": {
      "name": "Assignment_9.ipynb",
      "provenance": [],
      "collapsed_sections": []
    },
    "kernelspec": {
      "name": "python3",
      "display_name": "Python 3"
    },
    "language_info": {
      "name": "python"
    }
  },
  "cells": [
    {
      "cell_type": "markdown",
      "source": [
        "# Assign 1\n",
        "If the name exists in the file write into a new file"
      ],
      "metadata": {
        "id": "OiCbdKjUFl6V"
      }
    },
    {
      "cell_type": "code",
      "execution_count": null,
      "metadata": {
        "colab": {
          "base_uri": "https://localhost:8080/"
        },
        "id": "9z_HOujV8eAw",
        "outputId": "8bec397c-756e-447a-e972-0f534d512d00"
      },
      "outputs": [
        {
          "output_type": "stream",
          "name": "stdout",
          "text": [
            "Enter the names with spaces: Reena Sandra Sandra Priya\n",
            "['Reena\\n', 'Priya\\n', 'Sandra\\n']\n"
          ]
        }
      ],
      "source": [
        "names = list(set(input(\"Enter the names with spaces: \").split(\" \")))\n",
        "file_open = open(\"first.txt\", 'r')\n",
        "new_file = open(\"existing_names.txt\", 'w')\n",
        "for line in file_open.readlines():\n",
        "  for name in names:\n",
        "    if line.rstrip() == name:\n",
        "      new_file.writelines(name+'\\n')\n",
        "new_file.close()\n",
        "file_open.close()\n",
        "new_file_open = open(\"existing_names.txt\", 'r')\n",
        "print(new_file_open.readlines())\n",
        "new_file_open.close()"
      ]
    },
    {
      "cell_type": "code",
      "source": [
        ""
      ],
      "metadata": {
        "id": "dPUP0j72JEqB"
      },
      "execution_count": null,
      "outputs": []
    }
  ]
}