{
  "nbformat": 4,
  "nbformat_minor": 0,
  "metadata": {
    "colab": {
      "name": "Assignment_5.ipynb",
      "provenance": [],
      "collapsed_sections": []
    },
    "kernelspec": {
      "name": "python3",
      "display_name": "Python 3"
    },
    "language_info": {
      "name": "python"
    }
  },
  "cells": [
    {
      "cell_type": "markdown",
      "metadata": {
        "id": "7wzOazpWnfb1"
      },
      "source": [
        "Assign1 \n",
        "\n",
        "\tAccept .. Student details with 5 marks \n",
        "\tTotal \n",
        "\tAverage \n",
        "\t\n",
        "\tDisplay total and average along with all student details\n",
        "\t-------------------------------------------------------------------"
      ]
    },
    {
      "cell_type": "code",
      "metadata": {
        "colab": {
          "base_uri": "https://localhost:8080/"
        },
        "id": "NeGQkmuTnKwS",
        "outputId": "cdf13957-2646-4a8f-e38b-080b083f82e5"
      },
      "source": [
        "sid = int(input(\"Enter the student id: \"))\n",
        "sname = input(\"Enter a student name: \")\n",
        "sage = int(input(\"Enter the student's age: \"))\n",
        "smother_name = input(\"Enter student's mother name: \")\n",
        "sfather_name = input(\"Enter student's father name: \")\n",
        "seng_mark = float(input(\"Enter student's english mark: \"))\n",
        "smat_mark = float(input(\"Enter student's maths mark: \"))\n",
        "ssci_mark = float(input(\"Enter student's science mark: \"))\n",
        "ssoc_mark = float(input(\"Enter student's social mark: \"))\n",
        "scs_mark = float(input(\"Enter student's computer science mark: \"))\n",
        "tot = seng_mark+smat_mark+ssci_mark+ssoc_mark+scs_mark\n",
        "avg = tot/5\n",
        "print(\"ID                   :\", sid)\n",
        "print(\"Name                 :\", sname)\n",
        "print(\"Age                  :\",sage)\n",
        "print(\"Mother's Name        :\",smother_name)\n",
        "print(\"Father's Name        :\",sfather_name)\n",
        "print(\"English Mark         :\",seng_mark)\n",
        "print(\"Maths Mark           :\",smat_mark)\n",
        "print(\"Science Mark         :\",ssci_mark)\n",
        "print(\"Social Mark          :\",ssoc_mark)\n",
        "print(\"Computer Science Mark:\",scs_mark)\n",
        "print(\"Total                :\",tot)\n",
        "print(\"Average              :\", avg)"
      ],
      "execution_count": 1,
      "outputs": [
        {
          "output_type": "stream",
          "name": "stdout",
          "text": [
            "Enter the student id: 1\n",
            "Enter a student name: aaa\n",
            "Enter the student's age: 12\n",
            "Enter student's mother name: bbb\n",
            "Enter student's father name: ccc\n",
            "Enter student's english mark: 86\n",
            "Enter student's maths mark: 89\n",
            "Enter student's science mark: 90\n",
            "Enter student's social mark: 95\n",
            "Enter student's computer science mark: 98\n",
            "ID                   : 1\n",
            "Name                 : aaa\n",
            "Age                  : 12\n",
            "Mother's Name        : bbb\n",
            "Father's Name        : ccc\n",
            "English Mark         : 86.0\n",
            "Maths Mark           : 89.0\n",
            "Science Mark         : 90.0\n",
            "Social Mark          : 95.0\n",
            "Computer Science Mark: 98.0\n",
            "Total                : 458.0\n",
            "Average              : 91.6\n"
          ]
        }
      ]
    },
    {
      "cell_type": "markdown",
      "metadata": {
        "id": "TZe-8wG9ncG1"
      },
      "source": [
        "Assign2\n",
        "\n",
        "\tAccept 3 number from user \n",
        "\t\tCalculate \n",
        "\t\t\tAddition\n",
        "\t\t\tSubtraction\n",
        "\t\t\tMultiplication\n",
        "\t\t\t\n",
        "\t---------------------------------------------------------------------"
      ]
    },
    {
      "cell_type": "code",
      "metadata": {
        "colab": {
          "base_uri": "https://localhost:8080/"
        },
        "id": "G_hLCZSznO6X",
        "outputId": "9d2c5ea5-7c8e-4136-d19d-3b3d514015d7"
      },
      "source": [
        "a = int(input(\"Enter a first number: \"))\n",
        "b = int(input(\"Enter a second number: \"))\n",
        "c = int(input(\"Enter a third number: \"))\n",
        "print(\"Addition: {}\".format(a+b+c))\n",
        "print(\"Subtraction: {}\".format(a-b-c))\n",
        "print(\"Multiplication: {}\".format(a*b*c))"
      ],
      "execution_count": 2,
      "outputs": [
        {
          "output_type": "stream",
          "name": "stdout",
          "text": [
            "Enter a first number: 56\n",
            "Enter a second number: 79\n",
            "Enter a third number: 97\n",
            "Addition: 232\n",
            "Subtraction: -120\n",
            "Multiplication: 429128\n"
          ]
        }
      ]
    },
    {
      "cell_type": "markdown",
      "metadata": {
        "id": "5AR1MvxYnVU9"
      },
      "source": [
        "Assign 3\n",
        "\n",
        "\tAccept employee details from user using input function\n",
        "\tEmpname\n",
        "\tEmpdesg\n",
        "\tEmpsal\n",
        "\tEmpexp\n",
        "\t\n",
        "\tCalculate 15% hike to emplo"
      ]
    },
    {
      "cell_type": "code",
      "metadata": {
        "colab": {
          "base_uri": "https://localhost:8080/"
        },
        "id": "1w7XDot_npyI",
        "outputId": "750a59ab-68ff-40ea-8988-6fa63ccebf66"
      },
      "source": [
        "Empname = input(\"Enter employee name: \")\n",
        "Empdesg = input(\"Enter employee's designation: \")\n",
        "Empsal = float(input(\"Enter employee's salary: \"))\n",
        "Empexp = int(input(\"Enter employee's experience: \"))\n",
        "Emphike = 15/100\n",
        "Empsal_hike = Empsal+(Empsal*Emphike)\n",
        "print(\"Employee Name: {}\".format(Empname))\n",
        "print(\"Employee's Designation: {}\".format(Empdesg))\n",
        "print(\"Employee's Salary Before Hike: {}\".format(Empsal))\n",
        "print(\"Employee's Experience: {}\".format(Empexp))\n",
        "print(\"Employee's Hike Percentage: {}\".format(Emphike))\n",
        "print(\"Employee's Salary After Hike: {}\".format(Empsal_hike))"
      ],
      "execution_count": 3,
      "outputs": [
        {
          "output_type": "stream",
          "name": "stdout",
          "text": [
            "Enter employee name: xxx\n",
            "Enter employee's designation: Developer\n",
            "Enter employee's salary: 20000\n",
            "Enter employee's experience: 1\n",
            "Employee Name: xxx\n",
            "Employee's Designation: Developer\n",
            "Employee's Salary Before Hike: 20000.0\n",
            "Employee's Experience: 1\n",
            "Employee's Hike Percentage: 0.15\n",
            "Employee's Salary After Hike: 23000.0\n"
          ]
        }
      ]
    },
    {
      "cell_type": "markdown",
      "metadata": {
        "id": "t6aREfqPxQ0B"
      },
      "source": [
        "Take four digit number from user\n",
        "\t4593\n",
        "\t\n",
        "\t4\n",
        "\t5\n",
        "\t9\n",
        "\t3\n",
        "\t----------------------------\n",
        "\t3 \n",
        "\t9\n",
        "\t5\n",
        "\t4 \n",
        "\t\n",
        "\tPrint the total 4+5+9+3"
      ]
    },
    {
      "cell_type": "code",
      "metadata": {
        "colab": {
          "base_uri": "https://localhost:8080/"
        },
        "id": "BaaLSrysxSMR",
        "outputId": "0a72ce81-aa68-43c3-e5a1-373ae3460ed9"
      },
      "source": [
        "num = input(\"Enter a four digit number: \")\n",
        "num1 = num[::-1]\n",
        "print(num[0], num[1], num[2], num[3], sep=\"\\n\")\n",
        "print(\"----------------------------\")\n",
        "print(num1[0], num1[1], num1[2], num1[3], sep=\"\\n\")\n",
        "print(\"Total of {0}+{1}+{2}+{3} = {4}\".format(num[0], num[1], num[2], num[3], int(num[0])+int(num[1])+int(num[2])+int(num[3])))"
      ],
      "execution_count": 4,
      "outputs": [
        {
          "output_type": "stream",
          "name": "stdout",
          "text": [
            "Enter a four digit number: 4593\n",
            "4\n",
            "5\n",
            "9\n",
            "3\n",
            "----------------------------\n",
            "3\n",
            "9\n",
            "5\n",
            "4\n",
            "Total of 4+5+9+3 = 21\n"
          ]
        }
      ]
    },
    {
      "cell_type": "markdown",
      "metadata": {
        "id": "ZPHrBLDGxSrA"
      },
      "source": [
        "Take a  fruit name from user\n",
        "\n",
        "Try display individual characters of the fruit name\n",
        "\n",
        "\tORANGE\n",
        "\t\n",
        "\tO\n",
        "\tR \n",
        "\tA\n",
        "\tN\n",
        "\tG\n",
        "  E"
      ]
    },
    {
      "cell_type": "code",
      "metadata": {
        "colab": {
          "base_uri": "https://localhost:8080/"
        },
        "id": "8dGX4o8uxXdq",
        "outputId": "92166838-fa6f-473e-eaef-c34c47b97943"
      },
      "source": [
        "s = \"ORANGE\"\n",
        "print(\"Length of a string:\",len(s))\n",
        "print(s[0],s[1],s[2],s[3],s[4],s[5], sep=\"\\n\")"
      ],
      "execution_count": 5,
      "outputs": [
        {
          "output_type": "stream",
          "name": "stdout",
          "text": [
            "Length of a string: 6\n",
            "O\n",
            "R\n",
            "A\n",
            "N\n",
            "G\n",
            "E\n"
          ]
        }
      ]
    },
    {
      "cell_type": "markdown",
      "metadata": {
        "id": "itrE2eukxX4d"
      },
      "source": [
        "Assign 6 \n",
        "\n",
        "Take Three digit number from user\n",
        "\tIn integer format\n",
        "\t324 -- integer format \n",
        "\t\n",
        "\t num = int(input(\"Enter a Three Digit Number : \" ))\n",
        "\t\n",
        "\t4\n",
        "\t2\n",
        "\t3\n",
        "\t\n",
        "And add them "
      ]
    },
    {
      "cell_type": "code",
      "metadata": {
        "colab": {
          "base_uri": "https://localhost:8080/"
        },
        "id": "JHA5ibFmxdba",
        "outputId": "731928dc-a576-4324-df34-5a315b9d2ff5"
      },
      "source": [
        "num = int(input(\"Enter a Three Digit Number : \" ))\n",
        "last_digit = num%10\n",
        "print(last_digit)\n",
        "num = num//10\n",
        "mid_digit = num%10\n",
        "print(mid_digit)\n",
        "num = num//10\n",
        "first_digit = num%10\n",
        "print(first_digit)\n",
        "print(\"Sum of digits: {}\".format(first_digit+mid_digit+last_digit))"
      ],
      "execution_count": 7,
      "outputs": [
        {
          "output_type": "stream",
          "name": "stdout",
          "text": [
            "Enter a Three Digit Number : 423\n",
            "3\n",
            "2\n",
            "4\n",
            "Sum of digits: 9\n"
          ]
        }
      ]
    }
  ]
}