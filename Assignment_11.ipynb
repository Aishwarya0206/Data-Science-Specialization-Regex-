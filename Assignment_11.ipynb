{
  "nbformat": 4,
  "nbformat_minor": 0,
  "metadata": {
    "colab": {
      "name": "Assignment_11.ipynb",
      "provenance": [],
      "collapsed_sections": []
    },
    "kernelspec": {
      "name": "python3",
      "display_name": "Python 3"
    },
    "language_info": {
      "name": "python"
    }
  },
  "cells": [
    {
      "cell_type": "markdown",
      "source": [
        "#Question 1: \n",
        "  - Write a function which takes a list and a number as arguments. The function returns true if the number is present in the list otherwise false.\n"
      ],
      "metadata": {
        "id": "Hwxo8nFmSPHe"
      }
    },
    {
      "cell_type": "code",
      "execution_count": 1,
      "metadata": {
        "id": "y3eO9lIKRwkQ"
      },
      "outputs": [],
      "source": [
        "def checkNumInList(lst, val):\n",
        "  return(True if(val in lst) else False)"
      ]
    },
    {
      "cell_type": "code",
      "source": [
        "lst = [int(x) for x in input().split(',')]\n",
        "val = int(input(\"Enter a number: \"))\n",
        "checkNumInList(lst, val)"
      ],
      "metadata": {
        "colab": {
          "base_uri": "https://localhost:8080/"
        },
        "id": "V72JXTQjTQAn",
        "outputId": "19420e29-67ae-4800-b86e-b3c8cc69f311"
      },
      "execution_count": 2,
      "outputs": [
        {
          "name": "stdout",
          "output_type": "stream",
          "text": [
            "12,13,19,18,27\n",
            "Enter a number: 25\n"
          ]
        },
        {
          "output_type": "execute_result",
          "data": {
            "text/plain": [
              "False"
            ]
          },
          "metadata": {},
          "execution_count": 2
        }
      ]
    },
    {
      "cell_type": "markdown",
      "source": [
        "## Question 2: \n",
        "  - Write a function which takes a list of numbers as arguments. The function returns a list of same length with Boolean values. True for numbers in the list which are prime False otherwise. (Other helping functions can be created)."
      ],
      "metadata": {
        "id": "SwQ9WaEhUZ16"
      }
    },
    {
      "cell_type": "code",
      "source": [
        "def isPrimeList(lst_val):\n",
        "  lst_val1 = []\n",
        "  for j in lst_val:\n",
        "    for i in range(2, j):\n",
        "      if(j % i == 0):\n",
        "        lst_val1.append(False)\n",
        "        break\n",
        "    else:\n",
        "      lst_val1.append(j >= 2)\n",
        "  return lst_val1"
      ],
      "metadata": {
        "id": "1_thTmXKTjX0"
      },
      "execution_count": 3,
      "outputs": []
    },
    {
      "cell_type": "code",
      "source": [
        "lst_val = [int(x) for x in input().split(',')]\n",
        "isPrimeList(lst_val)"
      ],
      "metadata": {
        "colab": {
          "base_uri": "https://localhost:8080/"
        },
        "id": "o1jeSsUCWE40",
        "outputId": "823bf1cd-7060-4a3a-f049-9c92d5572665"
      },
      "execution_count": 4,
      "outputs": [
        {
          "name": "stdout",
          "output_type": "stream",
          "text": [
            "13,19,21,65,91\n"
          ]
        },
        {
          "output_type": "execute_result",
          "data": {
            "text/plain": [
              "[True, True, False, False, False]"
            ]
          },
          "metadata": {},
          "execution_count": 4
        }
      ]
    },
    {
      "cell_type": "markdown",
      "source": [
        "## Question 3: \n",
        " - Write a function which takes a list and an integer as argument. The function should return True if there is any pair of two consecutive numbers whose sum equals the integer (passed in the argument) otherwise False."
      ],
      "metadata": {
        "id": "N_uCI3VoiN6E"
      }
    },
    {
      "cell_type": "code",
      "source": [
        "def checkConsecutive(lst_of_val, sum):\n",
        "  val = []\n",
        "  for i in range(1,len(lst_of_val)):\n",
        "    if(lst_of_val[i] == lst_of_val[i-1]+1):\n",
        "      if((lst_of_val[i]+lst_of_val[i-1]) == sum):\n",
        "        val.append(True)\n",
        "      else:\n",
        "        val.append(False)\n",
        "  return(True if(True in val) else False)"
      ],
      "metadata": {
        "id": "PNOhVF5sbWhD"
      },
      "execution_count": 5,
      "outputs": []
    },
    {
      "cell_type": "code",
      "source": [
        "lst = [int(x) for x in input().split(',')]\n",
        "val = int(input(\"Enter a number: \"))\n",
        "checkConsecutive(lst, val)"
      ],
      "metadata": {
        "colab": {
          "base_uri": "https://localhost:8080/"
        },
        "id": "VkXj4kMOh9yu",
        "outputId": "2296eb70-e36f-4756-b006-9e5c7d2de75e"
      },
      "execution_count": 6,
      "outputs": [
        {
          "name": "stdout",
          "output_type": "stream",
          "text": [
            "27,89,67,68,22\n",
            "Enter a number: 135\n"
          ]
        },
        {
          "output_type": "execute_result",
          "data": {
            "text/plain": [
              "True"
            ]
          },
          "metadata": {},
          "execution_count": 6
        }
      ]
    },
    {
      "cell_type": "markdown",
      "source": [
        "## Question 4: \n",
        "  - Given two strings of equal length containing alphabet characters only, write a function which calculates the distance between these two strings.\n",
        "The distance can be calculated in following manner : +2 for same letter at a given position, -1 for a different letter at a given position."
      ],
      "metadata": {
        "id": "bIGjBcdmigdQ"
      }
    },
    {
      "cell_type": "code",
      "source": [
        "def calculateDistance(userString_1,userString_2,val):\n",
        "  if(len(userString_1) == len(userString_2) and userString_1.isalpha() and userString_2.isalpha()):\n",
        "    for i in range(len(userString_1)):\n",
        "      if(userString_1[i] == userString_2[i]):\n",
        "        val+=2\n",
        "      else:\n",
        "        val-=1\n",
        "  else:\n",
        "    print(\"Kindly input two strings of equal length containing alphabet characters only\")\n",
        "  return val"
      ],
      "metadata": {
        "id": "1fBfuLxvgYs5"
      },
      "execution_count": 7,
      "outputs": []
    },
    {
      "cell_type": "code",
      "source": [
        "while(True):\n",
        "  userString_1 = input(\"Enter a string: \")\n",
        "  userString_2 = input(\"Enter a string of equal length: \")\n",
        "    \n",
        "  val = 0\n",
        "  try:\n",
        "    val = calculateDistance(userString_1, userString_2, val)\n",
        "    print(\"Distance:\",val)\n",
        "    break\n",
        "  except:\n",
        "    continue"
      ],
      "metadata": {
        "id": "BkXoAY-ae89Y",
        "colab": {
          "base_uri": "https://localhost:8080/"
        },
        "outputId": "eba22a13-641f-44da-a2a5-1c08ac34ff63"
      },
      "execution_count": 8,
      "outputs": [
        {
          "output_type": "stream",
          "name": "stdout",
          "text": [
            "Enter a string: stick\n",
            "Enter a string of equal length: trick\n",
            "Distance: 4\n"
          ]
        }
      ]
    },
    {
      "cell_type": "code",
      "source": [
        ""
      ],
      "metadata": {
        "id": "KTobQnOinPtt"
      },
      "execution_count": 8,
      "outputs": []
    }
  ]
}