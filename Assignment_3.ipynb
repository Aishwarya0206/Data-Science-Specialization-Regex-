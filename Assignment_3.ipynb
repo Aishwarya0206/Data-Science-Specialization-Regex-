{
  "nbformat": 4,
  "nbformat_minor": 0,
  "metadata": {
    "colab": {
      "name": "Assignment_3.ipynb",
      "provenance": [],
      "collapsed_sections": []
    },
    "kernelspec": {
      "name": "python3",
      "display_name": "Python 3"
    },
    "language_info": {
      "name": "python"
    }
  },
  "cells": [
    {
      "cell_type": "code",
      "metadata": {
        "colab": {
          "base_uri": "https://localhost:8080/"
        },
        "id": "zZ02sOR0134g",
        "outputId": "06884355-c539-4cc5-94b8-f10abbc0ae87"
      },
      "source": [
        "s = \"APPLEFRUITBANANAFRUITKIWIFRUITMANGOFRUIT\"\n",
        "s.split(\"FRUIT\")[0:4]"
      ],
      "execution_count": 33,
      "outputs": [
        {
          "output_type": "execute_result",
          "data": {
            "text/plain": [
              "['APPLE', 'BANANA', 'KIWI', 'MANGO']"
            ]
          },
          "metadata": {},
          "execution_count": 33
        }
      ]
    },
    {
      "cell_type": "code",
      "metadata": {
        "colab": {
          "base_uri": "https://localhost:8080/"
        },
        "id": "YkUc3FEiOwu6",
        "outputId": "6a558897-fbb9-4393-ec20-1ddb09ad1227"
      },
      "source": [
        "emailid =  \"aishwarya.balaji@gmail.com\"\n",
        "firstname = emailid.split(\".\", 1)\n",
        "lastname = firstname[1].split(\"@\", 1)\n",
        "print(\"FirstName: \"+firstname[0])\n",
        "print(\"LastName: \"+lastname[0])\n",
        "print(\"Domain: www.\"+lastname[1])"
      ],
      "execution_count": 15,
      "outputs": [
        {
          "output_type": "stream",
          "name": "stdout",
          "text": [
            "FirstName: aishwarya\n",
            "LastName: balaji\n",
            "Domain: www.gmail.com\n"
          ]
        }
      ]
    },
    {
      "cell_type": "code",
      "metadata": {
        "colab": {
          "base_uri": "https://localhost:8080/"
        },
        "id": "Evp_rxoQP3Xv",
        "outputId": "3dae1f77-4b2f-4fee-dfdc-a1448d11d4ff"
      },
      "source": [
        "from datetime import date\n",
        "email = \"aishwarya.balaji.1997@gmail.com\"\n",
        "Firstname = email.split(\".\",2)\n",
        "Lastname = Firstname[1]\n",
        "Age = date.today().year - int(Firstname[2].split(\"@\")[0])\n",
        "print(\"FirstName: \"+Firstname[0])\n",
        "print(\"LastName: \"+Lastname)\n",
        "print(\"Age: \"+str(Age))\n",
        "print(\"Domain: www.\"+Firstname[2].split(\"@\")[1])"
      ],
      "execution_count": 32,
      "outputs": [
        {
          "output_type": "stream",
          "name": "stdout",
          "text": [
            "FirstName: aishwarya\n",
            "LastName: balaji\n",
            "Age: 24\n",
            "Domain: www.gmail.com\n"
          ]
        }
      ]
    }
  ]
}