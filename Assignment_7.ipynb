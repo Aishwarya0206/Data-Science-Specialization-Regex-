{
  "nbformat": 4,
  "nbformat_minor": 0,
  "metadata": {
    "colab": {
      "name": "Assignment_7.ipynb",
      "provenance": [],
      "collapsed_sections": []
    },
    "kernelspec": {
      "name": "python3",
      "display_name": "Python 3"
    },
    "language_info": {
      "name": "python"
    }
  },
  "cells": [
    {
      "cell_type": "markdown",
      "source": [
        "Q1 Using conditional statement\n",
        "\t- You need to take a input from the user is for password, you need to check the following criteria\n",
        "\t- The length of the input should be greater than 5 & less than or equal to 16 character\n",
        "\t- In the password there should be atleast 1 capital letter & 1 smaller letter\n",
        "\t\tif( range of the character in the Ascii value of your letter)\n",
        "\t- there should be atleast 1 number\n",
        "\t- there should be atleast 1 special character , @ # $ &\n",
        "\t- If the password follows all the criteria "
      ],
      "metadata": {
        "id": "YEUqfcunKW6o"
      }
    },
    {
      "cell_type": "code",
      "execution_count": 44,
      "metadata": {
        "colab": {
          "base_uri": "https://localhost:8080/"
        },
        "id": "BY_kYra8KSbu",
        "outputId": "dfdb893a-96bf-47f3-d09f-ecc6f8b3d687"
      },
      "outputs": [
        {
          "output_type": "stream",
          "name": "stdout",
          "text": [
            "Enter the password: Aishu\n",
            "Validation failed, Try again...\n",
            "Enter the password: Aishwarya@Bala2\n",
            "Validation passed\n"
          ]
        }
      ],
      "source": [
        "while(True):\n",
        "  pwd = input(\"Enter the password: \")\n",
        "  c = 0\n",
        "  try:\n",
        "    if(len(pwd)>5 and len(pwd)<=16):\n",
        "      for i in pwd:\n",
        "        if((ord(i)>=65 and ord(i)<=90) or (ord(i)>=97 and ord(i)<=122) or (i in ['@','#','$','&']) or i.isdigit()):\n",
        "          c += 1\n",
        "      if(c == len(pwd)):\n",
        "        print(\"Validation passed\")\n",
        "      break\n",
        "    else:\n",
        "      print(\"Validation failed, Try again...\")\n",
        "  except:\n",
        "    continue"
      ]
    },
    {
      "cell_type": "markdown",
      "source": [
        "Q2 Take a string as input from the user & try to see whether it's a palindrome or not\n",
        "\t'NAMAN'\n",
        "\t- Try to execute it with the slicing & indexing\n",
        "\t- without the slicing & indexing"
      ],
      "metadata": {
        "id": "dgCoLG1pKVGs"
      }
    },
    {
      "cell_type": "code",
      "source": [
        "palindrome_val = input(\"Enter a string: \")\n",
        "if(palindrome_val.lower() == palindrome_val[::-1].lower()):\n",
        "  print(\"{} is a palindrome\".format(palindrome_val))\n",
        "else:\n",
        "  print(\"{} is not a palindrome\".format(palindrome_val))"
      ],
      "metadata": {
        "colab": {
          "base_uri": "https://localhost:8080/"
        },
        "id": "XcZfKiJdKeCV",
        "outputId": "95bea782-e22e-4552-a248-188140ee9bd2"
      },
      "execution_count": 45,
      "outputs": [
        {
          "output_type": "stream",
          "name": "stdout",
          "text": [
            "Enter a string: Malayalam\n",
            "Malayalam is a palindrome\n"
          ]
        }
      ]
    },
    {
      "cell_type": "code",
      "source": [
        "palindrome_value = input(\"Enter a string: \")\n",
        "palindrome_val1 = ''.join(reversed(palindrome_value))\n",
        "if(palindrome_value.lower() == palindrome_val1.lower()):\n",
        "  print(\"{} is a palindrome\".format(palindrome_value))\n",
        "else:\n",
        "  print(\"{} is not a palindrome\".format(palindrome_value))"
      ],
      "metadata": {
        "colab": {
          "base_uri": "https://localhost:8080/"
        },
        "id": "tR3WvBHJNydo",
        "outputId": "632e3f9c-d591-43b3-ca9d-f3cebbe6756f"
      },
      "execution_count": 46,
      "outputs": [
        {
          "output_type": "stream",
          "name": "stdout",
          "text": [
            "Enter a string: Civilization\n",
            "Civilization is not a palindrome\n"
          ]
        }
      ]
    }
  ]
}