{
  "nbformat": 4,
  "nbformat_minor": 0,
  "metadata": {
    "colab": {
      "name": "Assignment_2.ipynb",
      "provenance": []
    },
    "kernelspec": {
      "name": "python3",
      "display_name": "Python 3"
    },
    "language_info": {
      "name": "python"
    }
  },
  "cells": [
    {
      "cell_type": "code",
      "metadata": {
        "colab": {
          "base_uri": "https://localhost:8080/"
        },
        "id": "vK8J2NPfGkj-",
        "outputId": "5cec81b5-855b-4c95-e4a1-d77b94002423"
      },
      "source": [
        "value = \"Aishwarya\"\n",
        "lst = list(value)\n",
        "for i in lst:\n",
        "  print(i,\":\",ord(i))"
      ],
      "execution_count": null,
      "outputs": [
        {
          "output_type": "stream",
          "name": "stdout",
          "text": [
            "A : 65\n",
            "i : 105\n",
            "s : 115\n",
            "h : 104\n",
            "w : 119\n",
            "a : 97\n",
            "r : 114\n",
            "y : 121\n",
            "a : 97\n"
          ]
        }
      ]
    },
    {
      "cell_type": "code",
      "metadata": {
        "colab": {
          "base_uri": "https://localhost:8080/"
        },
        "id": "h-tF8yPQGzTs",
        "outputId": "df1492f7-ac5d-42dc-99ea-d593075e6a76"
      },
      "source": [
        "value = 'iND@IA'\n",
        "lst = list(value)\n",
        "for i in lst:\n",
        "  print(i,\":\",ord(i))"
      ],
      "execution_count": null,
      "outputs": [
        {
          "output_type": "stream",
          "name": "stdout",
          "text": [
            "i : 105\n",
            "N : 78\n",
            "D : 68\n",
            "@ : 64\n",
            "I : 73\n",
            "A : 65\n"
          ]
        }
      ]
    },
    {
      "cell_type": "code",
      "metadata": {
        "id": "sesuVVn9G2TT",
        "colab": {
          "base_uri": "https://localhost:8080/"
        },
        "outputId": "fdecaa9a-ecef-41c9-aa8f-53cfae3dcf0e"
      },
      "source": [
        "lst = [80, 92, 99, 106, 116]\n",
        "for i in lst:\n",
        "  print(i,\":\",chr(i))"
      ],
      "execution_count": null,
      "outputs": [
        {
          "output_type": "stream",
          "name": "stdout",
          "text": [
            "80 : P\n",
            "92 : \\\n",
            "99 : c\n",
            "106 : j\n",
            "116 : t\n"
          ]
        }
      ]
    }
  ]
}